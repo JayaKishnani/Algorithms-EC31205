{
  "nbformat": 4,
  "nbformat_minor": 0,
  "metadata": {
    "colab": {
      "provenance": [],
      "collapsed_sections": []
    },
    "kernelspec": {
      "name": "python3",
      "display_name": "Python 3"
    },
    "language_info": {
      "name": "python"
    }
  },
  "cells": [
    {
      "cell_type": "markdown",
      "source": [
        "#Defining directed graph"
      ],
      "metadata": {
        "id": "kvL3rqPuvDVV"
      }
    },
    {
      "cell_type": "code",
      "execution_count": null,
      "metadata": {
        "id": "OATBhv8fujur"
      },
      "outputs": [],
      "source": [
        "#The Graph Class Structure\n",
        "import sys\n",
        " \n",
        "class Graph(object):\n",
        "    def __init__(self, nodes, init_graph):\n",
        "        self.nodes = nodes\n",
        "        self.graph = self.construct_graph(nodes, init_graph)\n",
        "        \n",
        "    def construct_graph(self, nodes, init_graph):\n",
        "        '''\n",
        "        This method makes sure that the graph is directed. \n",
        "        '''\n",
        "        graph = {}\n",
        "        for node in nodes:\n",
        "            graph[node] = {}\n",
        "        \n",
        "        graph.update(init_graph)\n",
        "                    \n",
        "        return graph\n",
        "    \n",
        "    def get_nodes(self):\n",
        "        \"Returns the nodes of the graph.\"\n",
        "        return self.nodes\n",
        "    \n",
        "    def get_outgoing_edges(self, node):\n",
        "        \"Returns the neighbors of a node.\"\n",
        "        connections = []\n",
        "        for out_node in self.nodes:\n",
        "            if self.graph[node].get(out_node, False) != False:\n",
        "                connections.append(out_node)\n",
        "        return connections\n",
        "    \n",
        "    def value(self, node1, node2):\n",
        "        \"Returns the value of an edge between two nodes.\"\n",
        "        return self.graph[node1][node2]"
      ]
    },
    {
      "cell_type": "code",
      "source": [
        "def print_result(previous_nodes, shortest_path, start_node, target_node):\n",
        "    path = []\n",
        "    node = target_node\n",
        "    \n",
        "    while node != start_node:\n",
        "        path.append(node)\n",
        "        node = previous_nodes[node]\n",
        " \n",
        "    # Add the start node manually\n",
        "    path.append(start_node)\n",
        "    \n",
        "    print(\"\\nWe found the following best path to reach node-{} with the cost as {}.\".format(target_node, shortest_path[target_node]))\n",
        "    print(\" -> \".join(reversed(path)))"
      ],
      "metadata": {
        "id": "4iHML0pIwGx3"
      },
      "execution_count": null,
      "outputs": []
    },
    {
      "cell_type": "markdown",
      "source": [
        "#Part-A Bellman Ford algorithm"
      ],
      "metadata": {
        "id": "9cq8vshSrxFW"
      }
    },
    {
      "cell_type": "code",
      "source": [
        "def bellman_ford_algorithm(graph, start_node):\n",
        "    all_nodes = list(graph.get_nodes())\n",
        "\n",
        "    #No. of iterations\n",
        "    n = len(all_nodes)-1\n",
        "\n",
        "    # We'll use this dict to save the cost of visiting each node and update it as we move along the graph   \n",
        "    shortest_path = {}\n",
        " \n",
        "    # We'll use this dict to save the shortest known path to a node found so far\n",
        "    previous_nodes = {}\n",
        " \n",
        "    # We'll use max_value to initialize the \"infinity\" value of the unvisited nodes   \n",
        "    max_value = sys.maxsize\n",
        "    for node in all_nodes:\n",
        "        shortest_path[node] = max_value\n",
        "    # However, we initialize the starting node's value with 0   \n",
        "    shortest_path[start_node] = 0\n",
        "    \n",
        "    # The algorithm executes until we visit all nodes\n",
        "    for _ in range(n):\n",
        "      for node in all_nodes:\n",
        "                \n",
        "        # The code block below retrieves the current node's neighbors and updates their distances\n",
        "        neighbors = graph.get_outgoing_edges(node)\n",
        "        for neighbor in neighbors:\n",
        "            tentative_value = shortest_path[node] + graph.value(node, neighbor)\n",
        "            if tentative_value < shortest_path[neighbor]:\n",
        "                shortest_path[neighbor] = tentative_value\n",
        "                # We also update the best path to the current node\n",
        "                previous_nodes[neighbor] = node\n",
        "    \n",
        "    return previous_nodes, shortest_path"
      ],
      "metadata": {
        "id": "5tTtrSEoZSLf"
      },
      "execution_count": null,
      "outputs": []
    },
    {
      "cell_type": "code",
      "source": [
        "def dijkstra_algorithm(graph, start_node):\n",
        "    unvisited_nodes = list(graph.get_nodes())\n",
        "    \n",
        "    # We'll use this dict to save the cost of visiting each node and update it as we move along the graph   \n",
        "    shortest_path = {}\n",
        " \n",
        "    # We'll use this dict to save the shortest known path to a node found so far\n",
        "    previous_nodes = {}\n",
        " \n",
        "    # We'll use max_value to initialize the \"infinity\" value of the unvisited nodes   \n",
        "    max_value = sys.maxsize\n",
        "    for node in unvisited_nodes:\n",
        "        shortest_path[node] = max_value\n",
        "    # However, we initialize the starting node's value with 0   \n",
        "    shortest_path[start_node] = 0\n",
        "    \n",
        "    # The algorithm executes until we visit all nodes\n",
        "    while unvisited_nodes:\n",
        "        # The code block below finds the node with the lowest score\n",
        "        current_min_node = None\n",
        "        for node in unvisited_nodes: # Iterate over the nodes\n",
        "            if current_min_node == None:\n",
        "                current_min_node = node\n",
        "            elif shortest_path[node] < shortest_path[current_min_node]:\n",
        "                current_min_node = node\n",
        "                \n",
        "        # The code block below retrieves the current node's neighbors and updates their distances\n",
        "        neighbors = graph.get_outgoing_edges(current_min_node)\n",
        "        for neighbor in neighbors:\n",
        "            tentative_value = shortest_path[current_min_node] + graph.value(current_min_node, neighbor)\n",
        "            if tentative_value < shortest_path[neighbor]:\n",
        "                shortest_path[neighbor] = tentative_value\n",
        "                # We also update the best path to the current node\n",
        "                previous_nodes[neighbor] = current_min_node\n",
        " \n",
        "        # After visiting its neighbors, we mark the node as \"visited\"\n",
        "        unvisited_nodes.remove(current_min_node)\n",
        "    \n",
        "    return previous_nodes, shortest_path"
      ],
      "metadata": {
        "id": "e2RRvsK4bd9K"
      },
      "execution_count": null,
      "outputs": []
    },
    {
      "cell_type": "code",
      "source": [
        "nodes = [\"1\", \"2\", \"3\", \"4\", \"5\", \"6\"]\n",
        " \n",
        "init_graph = {}\n",
        "for node in nodes:\n",
        "    init_graph[node] = {}\n",
        "    \n",
        "init_graph[\"1\"][\"2\"] = 2\n",
        "init_graph[\"2\"][\"4\"] = -7\n",
        "init_graph[\"4\"][\"6\"] = 1\n",
        "init_graph[\"5\"][\"6\"] = 5\n",
        "init_graph[\"5\"][\"4\"] = 2\n",
        "init_graph[\"1\"][\"3\"] = 4\n",
        "init_graph[\"3\"][\"5\"] = -3\n",
        "init_graph[\"2\"][\"3\"] = 1"
      ],
      "metadata": {
        "id": "d5-vz6kMwKIy"
      },
      "execution_count": null,
      "outputs": []
    },
    {
      "cell_type": "code",
      "source": [
        "graph = Graph(nodes, init_graph)"
      ],
      "metadata": {
        "id": "WgHl6Z0xwRSE"
      },
      "execution_count": null,
      "outputs": []
    },
    {
      "cell_type": "code",
      "source": [
        "print(\"BELLMAN FORD ALGORITHM\\n\")\n",
        "previous_nodes, shortest_path = bellman_ford_algorithm(graph=graph, start_node=\"1\")\n",
        "print_result(previous_nodes, shortest_path, start_node=\"1\", target_node=\"2\")\n",
        "print_result(previous_nodes, shortest_path, start_node=\"1\", target_node=\"3\")\n",
        "print_result(previous_nodes, shortest_path, start_node=\"1\", target_node=\"4\")\n",
        "print_result(previous_nodes, shortest_path, start_node=\"1\", target_node=\"5\")\n",
        "print_result(previous_nodes, shortest_path, start_node=\"1\", target_node=\"6\")\n",
        "\n",
        "print(\"\\nDIJKSTRA ALGORITHM\\n\")\n",
        "previous_nodes, shortest_path = dijkstra_algorithm(graph=graph, start_node=\"1\")\n",
        "print_result(previous_nodes, shortest_path, start_node=\"1\", target_node=\"2\")\n",
        "print_result(previous_nodes, shortest_path, start_node=\"1\", target_node=\"3\")\n",
        "print_result(previous_nodes, shortest_path, start_node=\"1\", target_node=\"4\")\n",
        "print_result(previous_nodes, shortest_path, start_node=\"1\", target_node=\"5\")\n",
        "print_result(previous_nodes, shortest_path, start_node=\"1\", target_node=\"6\")\n",
        "print(\"\\nDijkstra's algorithm works equivalently as bellman ford's\")"
      ],
      "metadata": {
        "id": "W7txBLMeZZg_",
        "colab": {
          "base_uri": "https://localhost:8080/"
        },
        "outputId": "c4417d14-09f3-4109-c946-e9767b0fe60a"
      },
      "execution_count": null,
      "outputs": [
        {
          "output_type": "stream",
          "name": "stdout",
          "text": [
            "BELLMAN FORD ALGORITHM\n",
            "\n",
            "\n",
            "We found the following best path to reach node-2 with the cost as 2.\n",
            "1 -> 2\n",
            "\n",
            "We found the following best path to reach node-3 with the cost as 3.\n",
            "1 -> 2 -> 3\n",
            "\n",
            "We found the following best path to reach node-4 with the cost as -5.\n",
            "1 -> 2 -> 4\n",
            "\n",
            "We found the following best path to reach node-5 with the cost as 0.\n",
            "1 -> 2 -> 3 -> 5\n",
            "\n",
            "We found the following best path to reach node-6 with the cost as -4.\n",
            "1 -> 2 -> 4 -> 6\n",
            "\n",
            "DIJKSTRA ALGORITHM\n",
            "\n",
            "\n",
            "We found the following best path to reach node-2 with the cost as 2.\n",
            "1 -> 2\n",
            "\n",
            "We found the following best path to reach node-3 with the cost as 3.\n",
            "1 -> 2 -> 3\n",
            "\n",
            "We found the following best path to reach node-4 with the cost as -5.\n",
            "1 -> 2 -> 4\n",
            "\n",
            "We found the following best path to reach node-5 with the cost as 0.\n",
            "1 -> 2 -> 3 -> 5\n",
            "\n",
            "We found the following best path to reach node-6 with the cost as -4.\n",
            "1 -> 2 -> 4 -> 6\n",
            "\n",
            "Dijkstra's algorithm works equivalently as bellman ford's\n"
          ]
        }
      ]
    },
    {
      "cell_type": "markdown",
      "source": [
        "#Example when dijkstra fails<br>\n",
        "Changing weights of node from 3 to 5 as 8 and 5 to 4 as -3\n"
      ],
      "metadata": {
        "id": "8KlfEGv1qEJl"
      }
    },
    {
      "cell_type": "code",
      "source": [
        "nodes = [\"1\", \"2\", \"3\", \"4\", \"5\", \"6\"]\n",
        " \n",
        "init_graph = {}\n",
        "for node in nodes:\n",
        "    init_graph[node] = {}\n",
        "    \n",
        "init_graph[\"1\"][\"2\"] = 2\n",
        "init_graph[\"2\"][\"4\"] = 7\n",
        "init_graph[\"4\"][\"6\"] = 1\n",
        "init_graph[\"5\"][\"6\"] = 5\n",
        "init_graph[\"5\"][\"4\"] = -5\n",
        "init_graph[\"1\"][\"3\"] = 4\n",
        "init_graph[\"3\"][\"5\"] = 9\n",
        "init_graph[\"2\"][\"3\"] = 1"
      ],
      "metadata": {
        "id": "4Chrf5g9aDlC"
      },
      "execution_count": null,
      "outputs": []
    },
    {
      "cell_type": "code",
      "source": [
        "graph = Graph(nodes, init_graph)"
      ],
      "metadata": {
        "id": "3d3fr0_Ytykl"
      },
      "execution_count": null,
      "outputs": []
    },
    {
      "cell_type": "code",
      "source": [
        "print(\"BELLMAN FORD ALGORITHM\\n\")\n",
        "previous_nodes, shortest_path = bellman_ford_algorithm(graph=graph, start_node=\"1\")\n",
        "print_result(previous_nodes, shortest_path, start_node=\"1\", target_node=\"2\")\n",
        "print_result(previous_nodes, shortest_path, start_node=\"1\", target_node=\"3\")\n",
        "print_result(previous_nodes, shortest_path, start_node=\"1\", target_node=\"4\")\n",
        "print_result(previous_nodes, shortest_path, start_node=\"1\", target_node=\"5\")\n",
        "print_result(previous_nodes, shortest_path, start_node=\"1\", target_node=\"6\")\n",
        "\n",
        "print(\"\\nDIJKSTRA ALGORITHM\\n\")\n",
        "previous_nodes, shortest_path = dijkstra_algorithm(graph=graph, start_node=\"1\")\n",
        "print_result(previous_nodes, shortest_path, start_node=\"1\", target_node=\"2\")\n",
        "print_result(previous_nodes, shortest_path, start_node=\"1\", target_node=\"3\")\n",
        "print_result(previous_nodes, shortest_path, start_node=\"1\", target_node=\"4\")\n",
        "print_result(previous_nodes, shortest_path, start_node=\"1\", target_node=\"5\")\n",
        "print_result(previous_nodes, shortest_path, start_node=\"1\", target_node=\"6\")\n",
        "print(\"\\nDIJKSTRA ALGORITHM FAILED!!\")"
      ],
      "metadata": {
        "id": "SpBCPb9Wt15H",
        "colab": {
          "base_uri": "https://localhost:8080/"
        },
        "outputId": "a5acf812-44b6-4a82-8f00-cb35d1239a9e"
      },
      "execution_count": null,
      "outputs": [
        {
          "output_type": "stream",
          "name": "stdout",
          "text": [
            "BELLMAN FORD ALGORITHM\n",
            "\n",
            "\n",
            "We found the following best path to reach node-2 with the cost as 2.\n",
            "1 -> 2\n",
            "\n",
            "We found the following best path to reach node-3 with the cost as 3.\n",
            "1 -> 2 -> 3\n",
            "\n",
            "We found the following best path to reach node-4 with the cost as 7.\n",
            "1 -> 2 -> 3 -> 5 -> 4\n",
            "\n",
            "We found the following best path to reach node-5 with the cost as 12.\n",
            "1 -> 2 -> 3 -> 5\n",
            "\n",
            "We found the following best path to reach node-6 with the cost as 8.\n",
            "1 -> 2 -> 3 -> 5 -> 4 -> 6\n",
            "\n",
            "DIJKSTRA ALGORITHM\n",
            "\n",
            "\n",
            "We found the following best path to reach node-2 with the cost as 2.\n",
            "1 -> 2\n",
            "\n",
            "We found the following best path to reach node-3 with the cost as 3.\n",
            "1 -> 2 -> 3\n",
            "\n",
            "We found the following best path to reach node-4 with the cost as 7.\n",
            "1 -> 2 -> 3 -> 5 -> 4\n",
            "\n",
            "We found the following best path to reach node-5 with the cost as 12.\n",
            "1 -> 2 -> 3 -> 5\n",
            "\n",
            "We found the following best path to reach node-6 with the cost as 10.\n",
            "1 -> 2 -> 3 -> 5 -> 4 -> 6\n",
            "\n",
            "DIJKSTRA ALGORITHM FAILED!!\n"
          ]
        }
      ]
    },
    {
      "cell_type": "markdown",
      "source": [
        "#Part-B Condition when Bellman ford algorithm fails\n",
        "When there is negative weight cycle"
      ],
      "metadata": {
        "id": "8ttTaHigwVXq"
      }
    },
    {
      "cell_type": "code",
      "source": [
        "def bellman_ford_algorithm_1(graph, start_node):\n",
        "    all_nodes = list(graph.get_nodes())\n",
        "\n",
        "    #No. of iterations\n",
        "    n = len(all_nodes)\n",
        "\n",
        "    # We'll use this dict to save the cost of visiting each node and update it as we move along the graph   \n",
        "    shortest_path = {}\n",
        " \n",
        "    # We'll use this dict to save the shortest known path to a node found so far\n",
        "    previous_nodes = {}\n",
        " \n",
        "    # We'll use max_value to initialize the \"infinity\" value of the unvisited nodes   \n",
        "    max_value = sys.maxsize\n",
        "    for node in all_nodes:\n",
        "        shortest_path[node] = max_value\n",
        "    # However, we initialize the starting node's value with 0   \n",
        "    shortest_path[start_node] = 0\n",
        "    \n",
        "    # The algorithm executes until we visit all nodes\n",
        "    for _ in range(n):\n",
        "      for node in all_nodes:\n",
        "                \n",
        "        # The code block below retrieves the current node's neighbors and updates their distances\n",
        "        neighbors = graph.get_outgoing_edges(node)\n",
        "        for neighbor in neighbors:\n",
        "            tentative_value = shortest_path[node] + graph.value(node, neighbor)\n",
        "            if tentative_value < shortest_path[neighbor]:\n",
        "                shortest_path[neighbor] = tentative_value\n",
        "                # We also update the best path to the current node\n",
        "                previous_nodes[neighbor] = node\n",
        "    \n",
        "    return previous_nodes, shortest_path"
      ],
      "metadata": {
        "id": "TGpGk51tubBI"
      },
      "execution_count": null,
      "outputs": []
    },
    {
      "cell_type": "code",
      "source": [
        "def bellman_ford_algorithm_2(graph, start_node):\n",
        "    all_nodes = list(graph.get_nodes())\n",
        "\n",
        "    #No. of iterations\n",
        "    n = len(all_nodes)+1\n",
        "\n",
        "    # We'll use this dict to save the cost of visiting each node and update it as we move along the graph   \n",
        "    shortest_path = {}\n",
        " \n",
        "    # We'll use this dict to save the shortest known path to a node found so far\n",
        "    previous_nodes = {}\n",
        " \n",
        "    # We'll use max_value to initialize the \"infinity\" value of the unvisited nodes   \n",
        "    max_value = sys.maxsize\n",
        "    for node in all_nodes:\n",
        "        shortest_path[node] = max_value\n",
        "    # However, we initialize the starting node's value with 0   \n",
        "    shortest_path[start_node] = 0\n",
        "    \n",
        "    # The algorithm executes until we visit all nodes\n",
        "    for _ in range(n):\n",
        "      for node in all_nodes:\n",
        "                \n",
        "        # The code block below retrieves the current node's neighbors and updates their distances\n",
        "        neighbors = graph.get_outgoing_edges(node)\n",
        "        for neighbor in neighbors:\n",
        "            tentative_value = shortest_path[node] + graph.value(node, neighbor)\n",
        "            if tentative_value < shortest_path[neighbor]:\n",
        "                shortest_path[neighbor] = tentative_value\n",
        "                # We also update the best path to the current node\n",
        "                previous_nodes[neighbor] = node\n",
        "    \n",
        "    return previous_nodes, shortest_path"
      ],
      "metadata": {
        "id": "NOMYMhT-yQTI"
      },
      "execution_count": null,
      "outputs": []
    },
    {
      "cell_type": "code",
      "source": [
        "nodes = [\"1\", \"2\", \"3\", \"4\", \"5\", \"6\"]\n",
        " \n",
        "init_graph = {}\n",
        "for node in nodes:\n",
        "    init_graph[node] = {}\n",
        "    \n",
        "init_graph[\"1\"][\"2\"] = 2\n",
        "init_graph[\"2\"][\"4\"] = 7\n",
        "init_graph[\"4\"][\"6\"] = 1\n",
        "init_graph[\"5\"][\"6\"] = 5\n",
        "init_graph[\"5\"][\"4\"] = 2\n",
        "init_graph[\"1\"][\"3\"] = 4\n",
        "init_graph[\"3\"][\"5\"] = 3\n",
        "init_graph[\"2\"][\"3\"] = 1\n",
        "init_graph[\"4\"][\"3\"] = -7"
      ],
      "metadata": {
        "id": "tBqBPSR-x4jW"
      },
      "execution_count": null,
      "outputs": []
    },
    {
      "cell_type": "code",
      "source": [
        "graph = Graph(nodes, init_graph)"
      ],
      "metadata": {
        "id": "dKkEw34WyTMx"
      },
      "execution_count": null,
      "outputs": []
    },
    {
      "cell_type": "code",
      "source": [
        "print(\"The shortest path cost to the target node is given in the form of dictionary\\n\")\n",
        "print(\"After n-1 iterations (where n is the number of vertices)\\n\")\n",
        "previous_nodes, shortest_path = bellman_ford_algorithm(graph=graph, start_node=\"1\")\n",
        "print(shortest_path)\n",
        "print(\"\\nAfter n iterations (where n is the number of vertices)\\n\")\n",
        "previous_nodes, shortest_path = bellman_ford_algorithm_1(graph=graph, start_node=\"1\")\n",
        "print(shortest_path)\n",
        "print(\"\\nAfter n+1 iterations (where n is the number of vertices)\\n\")\n",
        "previous_nodes, shortest_path = bellman_ford_algorithm_2(graph=graph, start_node=\"1\")\n",
        "print(shortest_path)\n",
        "print(\"\\nBELLMAN FORD ALGORITHM FAILED!!\")"
      ],
      "metadata": {
        "id": "tp6r_fF70QyZ",
        "colab": {
          "base_uri": "https://localhost:8080/"
        },
        "outputId": "964d04e0-9752-466f-f422-ab40d40a970f"
      },
      "execution_count": null,
      "outputs": [
        {
          "output_type": "stream",
          "name": "stdout",
          "text": [
            "The shortest path cost to the target node is given in the form of dictionary\n",
            "\n",
            "After n-1 iterations (where n is the number of vertices)\n",
            "\n",
            "{'1': 0, '2': 2, '3': -2, '4': 4, '5': 2, '6': 6}\n",
            "\n",
            "After n iterations (where n is the number of vertices)\n",
            "\n",
            "{'1': 0, '2': 2, '3': -3, '4': 3, '5': 1, '6': 5}\n",
            "\n",
            "After n+1 iterations (where n is the number of vertices)\n",
            "\n",
            "{'1': 0, '2': 2, '3': -4, '4': 2, '5': 0, '6': 4}\n",
            "\n",
            "BELLMAN FORD ALGORITHM FAILED!!\n"
          ]
        }
      ]
    },
    {
      "cell_type": "code",
      "source": [],
      "metadata": {
        "id": "5Quu-hqw0fi6"
      },
      "execution_count": null,
      "outputs": []
    }
  ]
}