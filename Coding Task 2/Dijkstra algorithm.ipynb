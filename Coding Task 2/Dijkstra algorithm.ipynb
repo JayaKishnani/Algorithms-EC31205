{
  "nbformat": 4,
  "nbformat_minor": 0,
  "metadata": {
    "colab": {
      "provenance": []
    },
    "kernelspec": {
      "name": "python3",
      "display_name": "Python 3"
    },
    "language_info": {
      "name": "python"
    }
  },
  "cells": [
    {
      "cell_type": "markdown",
      "source": [
        "#Defining directed graph\n"
      ],
      "metadata": {
        "id": "dx8dx_26u4zE"
      }
    },
    {
      "cell_type": "code",
      "execution_count": 1,
      "metadata": {
        "id": "OH1GyPCBL0U5"
      },
      "outputs": [],
      "source": [
        "#The Graph Class Structure\n",
        "import sys\n",
        " \n",
        "class Graph(object):\n",
        "    def __init__(self, nodes, init_graph):\n",
        "        self.nodes = nodes\n",
        "        self.graph = self.construct_graph(nodes, init_graph)\n",
        "        \n",
        "    def construct_graph(self, nodes, init_graph):\n",
        "        '''\n",
        "        This method makes sure that the graph is directed. \n",
        "        '''\n",
        "        graph = {}\n",
        "        for node in nodes:\n",
        "            graph[node] = {}\n",
        "        \n",
        "        graph.update(init_graph)\n",
        "                    \n",
        "        return graph\n",
        "    \n",
        "    def get_nodes(self):\n",
        "        \"Returns the nodes of the graph.\"\n",
        "        return self.nodes\n",
        "    \n",
        "    def get_outgoing_edges(self, node):\n",
        "        \"Returns the neighbors of a node.\"\n",
        "        connections = []\n",
        "        for out_node in self.nodes:\n",
        "            if self.graph[node].get(out_node, False) != False:\n",
        "                connections.append(out_node)\n",
        "        return connections\n",
        "    \n",
        "    def value(self, node1, node2):\n",
        "        \"Returns the value of an edge between two nodes.\"\n",
        "        return self.graph[node1][node2]"
      ]
    },
    {
      "cell_type": "code",
      "source": [
        "def print_result(previous_nodes, shortest_path, start_node, target_node):\n",
        "    path = []\n",
        "    node = target_node\n",
        "    \n",
        "    while node != start_node:\n",
        "        path.append(node)\n",
        "        node = previous_nodes[node]\n",
        " \n",
        "    # Add the start node manually\n",
        "    path.append(start_node)\n",
        "    \n",
        "    print(\"\\nWe found the following best path to reach node-{} with the cost as {}.\".format(target_node, shortest_path[target_node]))\n",
        "    print(\" -> \".join(reversed(path)))"
      ],
      "metadata": {
        "id": "zUDSDGemixUt"
      },
      "execution_count": 9,
      "outputs": []
    },
    {
      "cell_type": "markdown",
      "source": [
        "#Dijkstra's algorithm"
      ],
      "metadata": {
        "id": "pyxeZtmOhEd8"
      }
    },
    {
      "cell_type": "code",
      "source": [
        "def dijkstra_algorithm(graph, start_node):\n",
        "    unvisited_nodes = list(graph.get_nodes())\n",
        "    \n",
        "    # We'll use this dict to save the cost of visiting each node and update it as we move along the graph   \n",
        "    shortest_path = {}\n",
        " \n",
        "    # We'll use this dict to save the shortest known path to a node found so far\n",
        "    previous_nodes = {}\n",
        " \n",
        "    # We'll use max_value to initialize the \"infinity\" value of the unvisited nodes   \n",
        "    max_value = sys.maxsize\n",
        "    for node in unvisited_nodes:\n",
        "        shortest_path[node] = max_value\n",
        "    # However, we initialize the starting node's value with 0   \n",
        "    shortest_path[start_node] = 0\n",
        "    \n",
        "    # The algorithm executes until we visit all nodes\n",
        "    while unvisited_nodes:\n",
        "        # The code block below finds the node with the lowest score\n",
        "        current_min_node = None\n",
        "        for node in unvisited_nodes: # Iterate over the nodes\n",
        "            if current_min_node == None:\n",
        "                current_min_node = node\n",
        "            elif shortest_path[node] < shortest_path[current_min_node]:\n",
        "                current_min_node = node\n",
        "                \n",
        "        # The code block below retrieves the current node's neighbors and updates their distances\n",
        "        neighbors = graph.get_outgoing_edges(current_min_node)\n",
        "        for neighbor in neighbors:\n",
        "            tentative_value = shortest_path[current_min_node] + graph.value(current_min_node, neighbor)\n",
        "            if tentative_value < shortest_path[neighbor]:\n",
        "                shortest_path[neighbor] = tentative_value\n",
        "                # We also update the best path to the current node\n",
        "                previous_nodes[neighbor] = current_min_node\n",
        " \n",
        "        # After visiting its neighbors, we mark the node as \"visited\"\n",
        "        unvisited_nodes.remove(current_min_node)\n",
        "    \n",
        "    return previous_nodes, shortest_path"
      ],
      "metadata": {
        "id": "VqB4zcO4or9i"
      },
      "execution_count": 2,
      "outputs": []
    },
    {
      "cell_type": "code",
      "source": [
        "nodes = [\"1\", \"2\", \"3\", \"4\", \"5\", \"6\"]\n",
        " \n",
        "init_graph = {}\n",
        "for node in nodes:\n",
        "    init_graph[node] = {}\n",
        "    \n",
        "init_graph[\"1\"][\"2\"] = 2\n",
        "init_graph[\"2\"][\"4\"] = 7\n",
        "init_graph[\"4\"][\"6\"] = 1\n",
        "init_graph[\"5\"][\"6\"] = 5\n",
        "init_graph[\"5\"][\"4\"] = 2\n",
        "init_graph[\"1\"][\"3\"] = 4\n",
        "init_graph[\"3\"][\"5\"] = 3\n",
        "init_graph[\"2\"][\"3\"] = 1"
      ],
      "metadata": {
        "id": "b0AyruKFo8fd"
      },
      "execution_count": 4,
      "outputs": []
    },
    {
      "cell_type": "code",
      "source": [
        "graph = Graph(nodes, init_graph)"
      ],
      "metadata": {
        "id": "dBjOkA5ApD9Q"
      },
      "execution_count": 5,
      "outputs": []
    },
    {
      "cell_type": "code",
      "source": [
        "previous_nodes, shortest_path = dijkstra_algorithm(graph=graph, start_node=\"1\")"
      ],
      "metadata": {
        "id": "KAfVkgtypIe0"
      },
      "execution_count": 6,
      "outputs": []
    },
    {
      "cell_type": "code",
      "source": [
        "print(\"DIJKSTRA'S ALGORITHM\\n\")\n",
        "print_result(previous_nodes, shortest_path, start_node=\"1\", target_node=\"2\")\n",
        "print_result(previous_nodes, shortest_path, start_node=\"1\", target_node=\"3\")\n",
        "print_result(previous_nodes, shortest_path, start_node=\"1\", target_node=\"4\")\n",
        "print_result(previous_nodes, shortest_path, start_node=\"1\", target_node=\"5\")\n",
        "print_result(previous_nodes, shortest_path, start_node=\"1\", target_node=\"6\")"
      ],
      "metadata": {
        "colab": {
          "base_uri": "https://localhost:8080/"
        },
        "id": "cl-NU74ipM_x",
        "outputId": "c5e804e4-59f1-460f-90cc-0dd1e840fa2a"
      },
      "execution_count": 8,
      "outputs": [
        {
          "output_type": "stream",
          "name": "stdout",
          "text": [
            "DIJKSTRA'S ALGORITHM\n",
            "\n",
            "\n",
            "We found the following best path to reach node-2 with the cost as 2.\n",
            "1 -> 2\n",
            "\n",
            "We found the following best path to reach node-3 with the cost as 3.\n",
            "1 -> 2 -> 3\n",
            "\n",
            "We found the following best path to reach node-4 with the cost as 8.\n",
            "1 -> 2 -> 3 -> 5 -> 4\n",
            "\n",
            "We found the following best path to reach node-5 with the cost as 6.\n",
            "1 -> 2 -> 3 -> 5\n",
            "\n",
            "We found the following best path to reach node-6 with the cost as 9.\n",
            "1 -> 2 -> 3 -> 5 -> 4 -> 6\n"
          ]
        }
      ]
    },
    {
      "cell_type": "code",
      "source": [],
      "metadata": {
        "id": "UxcIWeMSpSVq"
      },
      "execution_count": null,
      "outputs": []
    }
  ]
}