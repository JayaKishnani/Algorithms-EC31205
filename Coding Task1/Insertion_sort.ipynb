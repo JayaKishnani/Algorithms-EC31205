{
  "nbformat": 4,
  "nbformat_minor": 0,
  "metadata": {
    "colab": {
      "provenance": []
    },
    "kernelspec": {
      "name": "python3",
      "display_name": "Python 3"
    },
    "language_info": {
      "name": "python"
    }
  },
  "cells": [
    {
      "cell_type": "code",
      "execution_count": null,
      "metadata": {
        "id": "kAsWSvq-dE-_"
      },
      "outputs": [],
      "source": [
        "#importing libraries\n",
        "import time\n",
        "import numpy as np\n",
        "import matplotlib.pyplot as plt"
      ]
    },
    {
      "cell_type": "code",
      "source": [
        "#Recursive approach\n",
        "def insertion_sort(arr, n) -> None:\n",
        "\n",
        "  #Base case\n",
        "  if n<=1:\n",
        "    return;\n",
        "\n",
        "  #Recursive call\n",
        "  insertion_sort(arr, n-1)\n",
        "\n",
        "  #Calculation\n",
        "  last = arr[n-1]\n",
        "  i = n-2\n",
        "  while(arr[i]>last and i>=0):\n",
        "    arr[i+1] = arr[i]\n",
        "    i-=1\n",
        "  arr[i+1] = last"
      ],
      "metadata": {
        "id": "vntk0znTdJPP"
      },
      "execution_count": null,
      "outputs": []
    },
    {
      "cell_type": "code",
      "source": [
        "#Time complexity analysis\n",
        "time_list = []\n",
        "num_elements = [] \n",
        "\n",
        "for i in range(20):\n",
        "  arr = np.random.randint(0, 10000*i, 50*i) #Random array with random elements and size\n",
        "  n = len(arr)\n",
        "  start = time.time()\n",
        "  insertion_sort(arr, n)\n",
        "  end = time.time()\n",
        "  time_taken = end-start\n",
        "  num_elements.append(n)\n",
        "  time_list.append(time_taken)\n",
        "\n",
        "#Plotting\n",
        "plt.plot(num_elements, time_list)\n",
        "plt.title(\"Time complexity analysis \")\n",
        "plt.ylabel(\"Time\")\n",
        "plt.xlabel(\"Number of elements\")\n",
        "plt.grid()"
      ],
      "metadata": {
        "colab": {
          "base_uri": "https://localhost:8080/",
          "height": 295
        },
        "id": "Mq8nabGRdL7W",
        "outputId": "707399ce-a777-4a0d-e8e0-3326d002d294"
      },
      "execution_count": null,
      "outputs": [
        {
          "output_type": "display_data",
          "data": {
            "text/plain": [
              "<Figure size 432x288 with 1 Axes>"
            ],
            "image/png": "[encoded data removed]"
          },
          "metadata": {
            "needs_background": "light"
          }
        }
      ]
    },
    {
      "cell_type": "code",
      "source": [],
      "metadata": {
        "id": "YOQQzrnui7bh"
      },
      "execution_count": null,
      "outputs": []
    }
  ]
}