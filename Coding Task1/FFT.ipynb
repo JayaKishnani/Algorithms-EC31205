{
  "nbformat": 4,
  "nbformat_minor": 0,
  "metadata": {
    "colab": {
      "provenance": []
    },
    "kernelspec": {
      "name": "python3",
      "display_name": "Python 3"
    },
    "language_info": {
      "name": "python"
    }
  },
  "cells": [
    {
      "cell_type": "code",
      "source": [
        "import math\n",
        "import time\n",
        "import numpy as np"
      ],
      "metadata": {
        "id": "fGcmTLEuAJ77"
      },
      "execution_count": null,
      "outputs": []
    },
    {
      "cell_type": "markdown",
      "source": [
        "#Naive Multiplication algorithm"
      ],
      "metadata": {
        "id": "8QLyrpE_2eza"
      }
    },
    {
      "cell_type": "code",
      "execution_count": null,
      "metadata": {
        "id": "jz-SKo9ne-mg"
      },
      "outputs": [],
      "source": [
        "# Simple Python3 program to multiply two polynomials\n",
        "  \n",
        "# A[] represents coefficients of first polynomial\n",
        "# B[] represents coefficients of second polynomial\n",
        "# m and n are sizes of A[] and B[] respectively\n",
        "def naive_multiply(A, B, m, n):\n",
        "\n",
        "  prod = [0] * (m + n - 1);\n",
        "      \n",
        "  # Multiply two polynomials term by term\n",
        "      \n",
        "  # Take ever term of first polynomial\n",
        "  for i in range(m):\n",
        "    # Multiply the current term of first \n",
        "    # polynomial with every term of \n",
        "    # second polynomial.\n",
        "    for j in range(n):\n",
        "      prod[i + j] += A[i] * B[j];\n",
        "  \n",
        "  return prod;"
      ]
    },
    {
      "cell_type": "code",
      "source": [
        "# A utility function to print a polynomial\n",
        "def printPoly(poly, n):\n",
        "  for i in range(n):\n",
        "    print(poly[i], end = \"\");\n",
        "    if (i != 0):\n",
        "      print(\"x^\", i, end = \"\");\n",
        "    if (i != n - 1):\n",
        "      print(\" + \", end = \"\");"
      ],
      "metadata": {
        "id": "y_dxz66d-ipe"
      },
      "execution_count": null,
      "outputs": []
    },
    {
      "cell_type": "markdown",
      "source": [
        "#FFT algorithm"
      ],
      "metadata": {
        "id": "J5m7AqQ62l1P"
      }
    },
    {
      "cell_type": "code",
      "source": [
        "def DFT_slow(x):\n",
        "    \"\"\"Compute the discrete Fourier Transform of the 1D array x\"\"\"\n",
        "    N = x.shape[0]\n",
        "    n = np.arange(N)\n",
        "    k = n.reshape((N, 1))\n",
        "    M = np.exp(-2j * np.pi * k * n / N)\n",
        "    return np.dot(M, x)"
      ],
      "metadata": {
        "id": "mrtlrz-ZzJe1"
      },
      "execution_count": null,
      "outputs": []
    },
    {
      "cell_type": "code",
      "source": [
        "def FFT(x):\n",
        "  \"\"\"A recursive implementation of the 1D Cooley-Tukey FFT\"\"\"\n",
        "  N = len(x)\n",
        "  if N % 2 > 0:\n",
        "    raise ValueError(\"size of x must be a power of 2\")\n",
        "  elif N <= 2:  # this cutoff should be optimized\n",
        "    return DFT_slow(x)\n",
        "  X_even = FFT(x[::2])\n",
        "  X_odd = FFT(x[1::2])\n",
        "  factor = np.exp(-2j * np.pi * np.arange(N) / N)\n",
        "  return np.concatenate([X_even + factor[:N // 2] * X_odd,\n",
        "                               X_even + factor[N // 2:] * X_odd])"
      ],
      "metadata": {
        "id": "_B23nvvZ1fS7"
      },
      "execution_count": null,
      "outputs": []
    },
    {
      "cell_type": "markdown",
      "source": [
        "#IFFT Algorithm"
      ],
      "metadata": {
        "id": "kBGP-WZd2o6O"
      }
    },
    {
      "cell_type": "code",
      "source": [
        "def IFFT(x):\n",
        "  N = len(x)\n",
        "  x_conj = np.conj(x)\n",
        "  X = FFT(x_conj)\n",
        "  X = np.conj(X)/N\n",
        "  return X"
      ],
      "metadata": {
        "id": "UxTQkEYy2oEi"
      },
      "execution_count": null,
      "outputs": []
    },
    {
      "cell_type": "code",
      "source": [
        "x = np.random.random(1024)\n",
        "np.allclose(IFFT(x), np.fft.ifft(x))"
      ],
      "metadata": {
        "colab": {
          "base_uri": "https://localhost:8080/"
        },
        "id": "rYj8GpTVfRB5",
        "outputId": "c4ad9dbf-dec7-46b4-b605-9d741c1dc385"
      },
      "execution_count": null,
      "outputs": [
        {
          "output_type": "execute_result",
          "data": {
            "text/plain": [
              "True"
            ]
          },
          "metadata": {},
          "execution_count": 7
        }
      ]
    },
    {
      "cell_type": "markdown",
      "source": [
        "#Polynomial Multiplication"
      ],
      "metadata": {
        "id": "9Qhbnz8Z2KGx"
      }
    },
    {
      "cell_type": "code",
      "source": [
        "def fast_multiply(A, B, m, n):\n",
        "  \n",
        "  A = np.asarray(A, dtype = complex)\n",
        "  B = np.asarray(B, dtype = complex)\n",
        "  N = pow(2,math.ceil(math.log2(m+n-1))) #N should be in power of 2\n",
        "\n",
        "  #Padding zeros \n",
        "  A = np.concatenate((A,np.zeros(N-len(A))))\n",
        "  B = np.concatenate((B,np.zeros(N-len(B))))\n",
        "  \n",
        "  #Evaluation (FFT)\n",
        "  F_CA = FFT(A)\n",
        "  F_CB = FFT(B)\n",
        "\n",
        "  #Multiplication\n",
        "  F_CC = [0]*len(A)\n",
        "  for i in range(len(A)):\n",
        "    F_CC[i] = F_CA[i]*F_CB[i]\n",
        "  F_CC = np.asarray(F_CC, dtype = complex)\n",
        "\n",
        "  #Interpolation (IFFT)\n",
        "  C = IFFT(F_CC)\n",
        "  C = np.round_(C,5)\n",
        "\n",
        "  return C\n",
        "\n"
      ],
      "metadata": {
        "id": "pl1n5DhM4Nt2"
      },
      "execution_count": null,
      "outputs": []
    },
    {
      "cell_type": "markdown",
      "source": [
        "#Driver's Code"
      ],
      "metadata": {
        "id": "Krpo140p5SW_"
      }
    },
    {
      "cell_type": "code",
      "source": [
        "A = [1, 2, 0, 3]\n",
        "B = [1,2]\n",
        "\n",
        "start1 = time.time()\n",
        "C = naive_multiply(A, B, len(A), len(B))\n",
        "end1 = time.time()\n",
        "\n",
        "start2 = time.time()\n",
        "D = fast_multiply(A, B, len(A), len(B))\n",
        "end2 = time.time()\n",
        "\n",
        "print(\"\\nPolynomial A:\")\n",
        "printPoly(A,len(A))\n",
        "\n",
        "print(\"\\nPolynomial B:\")\n",
        "printPoly(B,len(B))\n",
        "\n",
        "print(\"\\nPolynomial C (naive multiplication):\")\n",
        "printPoly(C,len(C)) \n",
        "\n",
        "print(\"\\nPolynomial D (FFT and IFFT):\")\n",
        "printPoly(D,len(D)) "
      ],
      "metadata": {
        "id": "jf0IzC5W2WgR",
        "colab": {
          "base_uri": "https://localhost:8080/"
        },
        "outputId": "1c2571bc-073c-42b9-a0b6-6378209d36b5"
      },
      "execution_count": null,
      "outputs": [
        {
          "output_type": "stream",
          "name": "stdout",
          "text": [
            "\n",
            "Polynomial A:\n",
            "1 + 2x^ 1 + 0x^ 2 + 3x^ 3\n",
            "Polynomial B:\n",
            "1 + 2x^ 1\n",
            "Polynomial C (naive multiplication):\n",
            "1 + 4x^ 1 + 4x^ 2 + 3x^ 3 + 6x^ 4\n",
            "Polynomial D (FFT and IFFT):\n",
            "(1-0j) + (4-0j)x^ 1 + (4+0j)x^ 2 + (3+0j)x^ 3 + (6+0j)x^ 4 + 0jx^ 5 + 0jx^ 6 + 0jx^ 7"
          ]
        }
      ]
    },
    {
      "cell_type": "code",
      "source": [
        "print(\"Time taken by naive multiplication: \"+ str(end1-start1) + \"s\")\n",
        "print(\"\\nTime taken by Fast (using fft and ifft) multiplication: \"+ str(end2-start2) + \"s\")\n"
      ],
      "metadata": {
        "id": "lZYf4ZSX6pkC",
        "colab": {
          "base_uri": "https://localhost:8080/"
        },
        "outputId": "0b3c95da-7d11-4dfe-e22e-d1b3216358b6"
      },
      "execution_count": null,
      "outputs": [
        {
          "output_type": "stream",
          "name": "stdout",
          "text": [
            "Time taken by naive multiplication: 8.940696716308594e-05s\n",
            "\n",
            "Time taken by Fast (using fft and ifft) multiplication: 0.0007545948028564453s\n"
          ]
        }
      ]
    }
  ]
}