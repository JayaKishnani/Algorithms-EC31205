{
  "nbformat": 4,
  "nbformat_minor": 0,
  "metadata": {
    "colab": {
      "provenance": []
    },
    "kernelspec": {
      "name": "python3",
      "display_name": "Python 3"
    },
    "language_info": {
      "name": "python"
    }
  },
  "cells": [
    {
      "cell_type": "code",
      "source": [
        "# A naive recursive implementation of fractional Knapsack Problem\n",
        "\n",
        "# Returns the maximum value that can be put in a knapsack of\n",
        "# capacity W\n",
        "def knapSack(W, wt, val, n, f):\n",
        "  # W - capacity of knapsack\n",
        "  # wt - weight array of items\n",
        "  # val - value array of items\n",
        "  # n - total no. of items\n",
        "  # f - fraction of item that can be picked apart from 0 and 1\n",
        "\n",
        "\t# Base Case\n",
        "\tif n == 0 or W == 0 :\n",
        "\t\treturn 0\n",
        "\n",
        "\t# If fractional weight of the nth item is more than Knapsack of capacity\n",
        "\t# W, then this item cannot be included in the optimal solution\n",
        "\tif (f*wt[n-1] > W):\n",
        "\t\treturn knapSack(W, wt, val, n-1, f)\n",
        "\n",
        " \t# If total weight of the nth item is more than Knapsack of capacity\n",
        "\t# return the maximum of two cases:\n",
        "\t# (1) fractional nth item included\n",
        "\t# (2) not included\n",
        "\telif (wt[n-1] > W):\n",
        "\t\treturn max(f*val[n-1] + knapSack(W-f*wt[n-1], wt, val, n-1, f),\n",
        "\t\t\t\tknapSack(W, wt, val, n-1, f))\n",
        "  \n",
        " \t# otherwise return the maximum of three cases:\n",
        "\t# (1) fractional nth item included\n",
        " \t# (2) whole nth item included\n",
        "\t# (3) not included\n",
        "\telse:\n",
        "\t\treturn max(val[n-1] + knapSack(W-wt[n-1], wt, val, n-1, f), f*val[n-1] + knapSack(W-f*wt[n-1], wt, val, n-1, f), knapSack(W, wt, val, n-1, f))\n",
        "\n",
        "# end of function knapSack\n",
        "\n",
        "# To test above function\n",
        "val = [62, 107, 120, 25, 78]\n",
        "wt = [10, 25, 32, 45, 59]\n",
        "W = 50\n",
        "n = len(val)\n",
        "f = 0.6     #fractional factor\n",
        "print(knapSack(W, wt, val, n, f))"
      ],
      "metadata": {
        "colab": {
          "base_uri": "https://localhost:8080/"
        },
        "id": "Bn3buNRDZW4X",
        "outputId": "75375ce2-2cd4-4e94-e626-1774de496552"
      },
      "execution_count": null,
      "outputs": [
        {
          "output_type": "stream",
          "name": "stdout",
          "text": [
            "198.2\n"
          ]
        }
      ]
    },
    {
      "cell_type": "code",
      "execution_count": null,
      "metadata": {
        "colab": {
          "base_uri": "https://localhost:8080/"
        },
        "id": "i6O7GdhyRiq1",
        "outputId": "909f5e3c-cc23-4922-d811-9f6a07c92617"
      },
      "outputs": [
        {
          "output_type": "stream",
          "name": "stdout",
          "text": [
            "198.2\n"
          ]
        }
      ],
      "source": [
        "import numpy as np\n",
        "import math\n",
        "\n",
        "# A Dynamic Programming based Python Program for fractional Knapsack problem\n",
        "# Returns the maximum value that can be put in a knapsack of capacity W\n",
        "def knapSack(W, wt, val, n, f):\n",
        "  # W - capacity of knapsack\n",
        "  # wt - weight array of items\n",
        "  # val - value array of items\n",
        "  # n - total no. of items\n",
        "  # f - fraction of item that can be picked apart from 0 and 1\n",
        "\n",
        "\tnorm = 10^math.ceil(math.log10(1/f))\n",
        "\t#print(norm)\n",
        "\tW = W*norm        #Normalising W and wt with norm to ensure multiplying with f produces integral indices so fractional weight is wt*norm*f whereas weight of whole is wt*norm and total knapsack weight is W*norm\n",
        "\twt = wt*norm\n",
        "\tK = np.zeros([n+1, W+1])\n",
        "\t#print(W, wt)\n",
        "\n",
        "\t# Build table K[][] in bottom up manner\n",
        "\tfor i in range(n + 1):\n",
        "\t\tfor w in range(W + 1):\n",
        "\t\t\t#print(wt[i-1]);\n",
        "\t\t\tif i == 0 or w == 0:\n",
        "\t\t\t\tK[i][w] = 0\n",
        "\t\t\telif wt[i-1] <= w:\n",
        "\t\t\t\tK[i][w] = max(val[i-1] + K[i-1][w-wt[i-1]], f*val[i-1] + K[i-1][w-int(f*wt[i-1])], K[i-1][w])   \n",
        "\t\t\telif f*wt[i-1] <= w:\n",
        "\t\t\t\tK[i][w] = max(f*val[i-1] + K[i-1][w-int(f*wt[i-1])], K[i-1][w])\n",
        "\t\t\telse:\n",
        "\t\t\t\tK[i][w] = K[i-1][w]\n",
        "\n",
        "\treturn K[n][W]\n",
        "\n",
        "# Driver program to test above function\n",
        "val = np.array([62, 107, 120, 25, 78])\n",
        "wt = np.array([10, 25, 32, 45, 59])\n",
        "W = 50\n",
        "n = len(val)\n",
        "f = 0.6     #fractional factor\n",
        "print(knapSack(W, wt, val, n, f))"
      ]
    }
  ]
}