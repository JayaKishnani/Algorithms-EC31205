{
  "nbformat": 4,
  "nbformat_minor": 0,
  "metadata": {
    "colab": {
      "provenance": [],
      "collapsed_sections": []
    },
    "kernelspec": {
      "name": "python3",
      "display_name": "Python 3"
    },
    "language_info": {
      "name": "python"
    }
  },
  "cells": [
    {
      "cell_type": "code",
      "source": [
        "import time"
      ],
      "metadata": {
        "id": "UhVsSh0aocDN"
      },
      "execution_count": null,
      "outputs": []
    },
    {
      "cell_type": "markdown",
      "source": [
        "#Naive recursive approach (without memoization)"
      ],
      "metadata": {
        "id": "b_zEKBn6odcF"
      }
    },
    {
      "cell_type": "code",
      "execution_count": null,
      "metadata": {
        "colab": {
          "base_uri": "https://localhost:8080/"
        },
        "id": "hOXBDM_HTFUe",
        "outputId": "e6386efe-2e50-4ae8-acb5-5246917764aa"
      },
      "outputs": [
        {
          "output_type": "stream",
          "name": "stdout",
          "text": [
            "6\n",
            "0.005633354187011719\n"
          ]
        }
      ],
      "source": [
        "def LCS(str1, str2) -> int:\n",
        "  m = len(str1)\n",
        "  n = len(str2)\n",
        "  if(m==0 or n==0):\n",
        "    return 0\n",
        "  elif (str1[m-1]==str2[n-1]):\n",
        "    return 1+LCS(str1[:m-1], str2[:n-1])\n",
        "  else:\n",
        "    return max(LCS(str1[:m-1], str2), LCS(str1, str2[:n-1]))\n",
        "\n",
        "X = \"September\"\n",
        "Y = \"December\"\n",
        "s = time.time()\n",
        "print(LCS(X,Y))\n",
        "e = time.time()\n",
        "\n",
        "time_naive = e-s\n",
        "#print(time_naive)"
      ]
    },
    {
      "cell_type": "markdown",
      "source": [
        "#Recursive approach (With memoization)"
      ],
      "metadata": {
        "id": "p9-CZDpBoZQZ"
      }
    },
    {
      "cell_type": "code",
      "source": [
        "def LCS2(str1, str2) -> int:\n",
        "  m = len(str1)\n",
        "  n = len(str2)\n",
        "  dp = [[-1 for i in range(n+1)] for j in range(m+1)]\n",
        "  if(m==0 or n==0):\n",
        "    return 0;\n",
        "  if(dp[m][n]!=-1):\n",
        "    return dp[m][n]\n",
        "  if(str1[m-1]==str2[n-1]):\n",
        "    dp[m][n] = 1+LCS2(str1[:m-1], str2[:n-1])\n",
        "    return dp[m][n]\n",
        "\n",
        "  dp[m][n] = max(LCS2(str1[:m-1], str2), LCS2(str1, str2[:n-1]))\n",
        "  return dp[m][n]\n",
        "\n",
        "X = \"September\"\n",
        "Y = \"December\"\n",
        "s = time.time()\n",
        "print(LCS2(X,Y))\n",
        "e = time.time()\n",
        "\n",
        "time_recur = e-s"
      ],
      "metadata": {
        "colab": {
          "base_uri": "https://localhost:8080/"
        },
        "id": "N10BrwLFUGOZ",
        "outputId": "88c7c174-44ed-4368-e675-adc37b276d6a"
      },
      "execution_count": null,
      "outputs": [
        {
          "output_type": "stream",
          "name": "stdout",
          "text": [
            "6\n"
          ]
        }
      ]
    },
    {
      "cell_type": "markdown",
      "source": [
        "#Dynamic programming (Bottom-up approach)"
      ],
      "metadata": {
        "id": "xJjzXl-9oSW_"
      }
    },
    {
      "cell_type": "code",
      "source": [
        "def LCS3(str1, str2) -> int:\n",
        "  m = len(str1)\n",
        "  n = len(str2)\n",
        "  dp = [[0 for i in range(n+1)]for j in range(m+1)]\n",
        "\n",
        "  for i in range(m+1):\n",
        "    for j in range(n+1):\n",
        "      if (i==0 or j==0):\n",
        "        dp[i][j]=0\n",
        "      elif(str1[i-1]==str2[j-1]):\n",
        "        dp[i][j] = 1 + dp[i-1][j-1]\n",
        "      else:\n",
        "        dp[i][j] = max(dp[i-1][j], dp[i][j-1])\n",
        "\n",
        "  return dp[m][n]\n",
        "\n",
        "X = \"September\"\n",
        "Y = \"December\"\n",
        "s = time.time()\n",
        "print(LCS3(X,Y))\n",
        "e = time.time()\n",
        "\n",
        "time_dp = e-s"
      ],
      "metadata": {
        "colab": {
          "base_uri": "https://localhost:8080/"
        },
        "id": "RFBW-L6ZXpsX",
        "outputId": "930c5b77-9708-4146-d344-05fee82f618b"
      },
      "execution_count": null,
      "outputs": [
        {
          "output_type": "stream",
          "name": "stdout",
          "text": [
            "6\n"
          ]
        }
      ]
    },
    {
      "cell_type": "markdown",
      "source": [
        "Time comparisions"
      ],
      "metadata": {
        "id": "t7gbfOq3pD4l"
      }
    },
    {
      "cell_type": "code",
      "source": [
        "print('Time taken by Naive recursive approach is: ', time_naive*1000, 'ms')\n",
        "print('Time taken by recursive approach is: ', time_recur*1000, 'ms')\n",
        "print('Time taken by dynamic programming is: ', time_dp*1000, 'ms')"
      ],
      "metadata": {
        "colab": {
          "base_uri": "https://localhost:8080/"
        },
        "id": "B8hE6BSopDgR",
        "outputId": "62c607b2-fa78-401f-bdcc-fbef3268e2fb"
      },
      "execution_count": null,
      "outputs": [
        {
          "output_type": "stream",
          "name": "stdout",
          "text": [
            "Time taken by Naive recursive approach is:  5.633354187011719 ms\n",
            "Time taken by recursive approach is:  1.901388168334961 ms\n",
            "Time taken by dynamic programming is:  0.33402442932128906 ms\n"
          ]
        }
      ]
    },
    {
      "cell_type": "code",
      "source": [],
      "metadata": {
        "id": "2xN3-tmJpdOm"
      },
      "execution_count": null,
      "outputs": []
    }
  ]
}